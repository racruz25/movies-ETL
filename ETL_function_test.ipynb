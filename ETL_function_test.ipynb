{
 "cells": [
  {
   "cell_type": "code",
   "execution_count": 4,
   "metadata": {},
   "outputs": [
    {
     "ename": "NameError",
     "evalue": "name 'extract_transform_load' is not defined",
     "output_type": "error",
     "traceback": [
      "\u001b[0;31m---------------------------------------------------------------------------\u001b[0m",
      "\u001b[0;31mNameError\u001b[0m                                 Traceback (most recent call last)",
      "\u001b[0;32m<ipython-input-4-2a1a8ba58e5a>\u001b[0m in \u001b[0;36m<module>\u001b[0;34m\u001b[0m\n\u001b[1;32m     43\u001b[0m \u001b[0;34m\u001b[0m\u001b[0m\n\u001b[1;32m     44\u001b[0m \u001b[0;31m# 7. Set the three variables in Step 6 equal to the function created in Step 1.\u001b[0m\u001b[0;34m\u001b[0m\u001b[0;34m\u001b[0m\u001b[0;34m\u001b[0m\u001b[0m\n\u001b[0;32m---> 45\u001b[0;31m \u001b[0mwiki_file\u001b[0m\u001b[0;34m,\u001b[0m \u001b[0mkaggle_file\u001b[0m\u001b[0;34m,\u001b[0m \u001b[0mratings_file\u001b[0m \u001b[0;34m=\u001b[0m \u001b[0mextract_transform_load\u001b[0m\u001b[0;34m(\u001b[0m\u001b[0;34m)\u001b[0m\u001b[0;34m\u001b[0m\u001b[0;34m\u001b[0m\u001b[0m\n\u001b[0m",
      "\u001b[0;31mNameError\u001b[0m: name 'extract_transform_load' is not defined"
     ]
    }
   ],
   "source": [
    "import json\n",
    "import pandas as pd\n",
    "import numpy as np\n",
    "\n",
    "import re\n",
    "\n",
    "from sqlalchemy import create_engine\n",
    "import psycopg2\n",
    "\n",
    "from config import db_password\n",
    "\n",
    "import time\n",
    "\n",
    "# 1. Create a function that takes in three arguments;\n",
    "# Wikipedia data, Kaggle metadata, and MovieLens rating data (from Kaggle)\n",
    "extract_transform_load = \n",
    "\n",
    "def function_name():\n",
    "    # 2. Read in the kaggle metadata and MovieLens ratings CSV files as Pandas DataFrames.\n",
    "    kaggle_file = pd.read_csv(f'{file_dir}movies_metadata.csv', low_memory=False)\n",
    "    \n",
    "    rating_file = pd.read_csv(f'{file_dir}ratings.csv')\n",
    "\n",
    "    # 3. Open the read the Wikipedia data JSON file.\n",
    "    f'{file_dir}wikipedia-movies.json'\n",
    "    with open(f'{file_dir}/wikipedia-movies.json', mode='r') as file:\n",
    "        wiki_movies_raw = json.load(file)\n",
    "    \n",
    "    # 4. Read in the raw wiki movie data as a Pandas DataFrame.\n",
    "    wiki_file = pd.DataFrame(wiki_movies_raw)\n",
    "    \n",
    "    # 5. Return the three DataFrames\n",
    "    return wiki_file, kaggle_file, ratings_file\n",
    "\n",
    "# 6 Create the path to your file directory and variables for the three files. \n",
    "file_dir = '/Users/rickcruz/Documents/UT-Data-Bootcamp/ETL/movies-ETL/'\n",
    "# Wikipedia data\n",
    "wiki_file = f'{file_dir}/wikipedia.movies.json'\n",
    "# Kaggle metadata\n",
    "kaggle_file = f'{file_dir}/movies_metadata.csv'\n",
    "# MovieLens rating data.\n",
    "ratings_file = f'{file_dir}/ratings.csv'\n",
    "\n",
    "# 7. Set the three variables in Step 6 equal to the function created in Step 1.\n",
    "wiki_file, kaggle_file, ratings_file = extract_transform_load()"
   ]
  },
  {
   "cell_type": "code",
   "execution_count": 2,
   "metadata": {},
   "outputs": [],
   "source": [
    "# 8. Set the DataFrames from the return statement equal to the file names in Step 6. \n",
    "wiki_movies_df = wiki_file\n",
    "kaggle_metadata = kaggle_file\n",
    "ratings = ratings_file"
   ]
  },
  {
   "cell_type": "code",
   "execution_count": 3,
   "metadata": {},
   "outputs": [],
   "source": [
    "# 9. Check the wiki_movies_df DataFrame.\n",
    "wiki_movies_df.head()"
   ]
  },
  {
   "cell_type": "code",
   "execution_count": 4,
   "metadata": {},
   "outputs": [],
   "source": [
    "# 10. Check the kaggle_metadata DataFrame.\n",
    "kaggle_metadata.head()"
   ]
  },
  {
   "cell_type": "code",
   "execution_count": 5,
   "metadata": {},
   "outputs": [],
   "source": [
    "# 11. Check the ratings DataFrame.\n",
    "ratings.head()"
   ]
  },
  {
   "cell_type": "code",
   "execution_count": null,
   "metadata": {},
   "outputs": [],
   "source": []
  }
 ],
 "metadata": {
  "kernelspec": {
   "display_name": "PythonData",
   "language": "python",
   "name": "pythondata"
  },
  "language_info": {
   "codemirror_mode": {
    "name": "ipython",
    "version": 3
   },
   "file_extension": ".py",
   "mimetype": "text/x-python",
   "name": "python",
   "nbconvert_exporter": "python",
   "pygments_lexer": "ipython3",
   "version": "3.8.8"
  }
 },
 "nbformat": 4,
 "nbformat_minor": 2
}
